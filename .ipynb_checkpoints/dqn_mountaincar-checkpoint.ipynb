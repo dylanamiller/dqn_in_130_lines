{
 "cells": [
  {
   "cell_type": "code",
   "execution_count": 1,
   "metadata": {},
   "outputs": [],
   "source": [
    "import torch\n",
    "import torch.nn as nn\n",
    "import torch.optim as optim\n",
    "from torch.nn import functional as F\n",
    "\n",
    "import numpy as np\n",
    "import matplotlib.pyplot as plt\n",
    "\n",
    "from random import sample\n",
    "from statistics import mean, stdev\n",
    "import copy\n",
    "\n",
    "import gym\n",
    "\n",
    "from logger import Logger"
   ]
  },
  {
   "cell_type": "code",
   "execution_count": 2,
   "metadata": {},
   "outputs": [],
   "source": [
    "class Replay:\n",
    "    def __init__(self, maxlen=10000, batch_size=128):\n",
    "        self.maxlen = maxlen\n",
    "        self.batch_size = batch_size\n",
    "        \n",
    "        self.buffer = []\n",
    "        \n",
    "    def add_exp(self, exp):\n",
    "        def buffer_full():\n",
    "            return True if len(self.buffer) == self.maxlen else False\n",
    "        \n",
    "        if buffer_full():\n",
    "            self.buffer.pop()\n",
    "        self.buffer.append(exp)\n",
    "        \n",
    "    def prime(self, env):\n",
    "        for exp in range(self.batch_size):\n",
    "            obs = env.reset()\n",
    "            action = env.action_space.sample()\n",
    "            next_obs, reward, _, _ = env.step(action)\n",
    "            next_action = env.action_space.sample()\n",
    "            \n",
    "            obs = torch.from_numpy(obs).float().unsqueeze(0)\n",
    "            next_obs = torch.from_numpy(next_obs).float().unsqueeze(0)\n",
    "            \n",
    "            self.add_exp((obs, action, reward, next_obs, next_action))\n",
    "    \n",
    "    def sample(self):\n",
    "        return sample(self.buffer, self.batch_size)"
   ]
  },
  {
   "cell_type": "code",
   "execution_count": 3,
   "metadata": {},
   "outputs": [],
   "source": [
    "def get_layer(dim0, dim1):\n",
    "    return nn.Sequential(\n",
    "        nn.Linear(dim0, dim1),\n",
    "        nn.ReLU()\n",
    "    )"
   ]
  },
  {
   "cell_type": "code",
   "execution_count": 4,
   "metadata": {},
   "outputs": [],
   "source": [
    "def build_network(dims):\n",
    "    return [get_layer(dims[i], dims[i+1]) for i in range(len(dims)-1)]"
   ]
  },
  {
   "cell_type": "code",
   "execution_count": 5,
   "metadata": {},
   "outputs": [],
   "source": [
    "class DQN(nn.Module):\n",
    "    def __init__(self, input_dim, n_actions, hidden_dim=128, n_hidden=2):\n",
    "        super(DQN, self).__init__()\n",
    "        self.network = nn.Sequential(*build_network([input_dim] + [hidden_dim]*n_hidden))\n",
    "        self.q_values = nn.Linear(hidden_dim, n_actions)\n",
    "        \n",
    "    def forward(self, X, action=None):\n",
    "        X = self.network(X)\n",
    "        q_values = self.q_values(X)\n",
    "        \n",
    "        if action:\n",
    "            q_values = q_values[torch.arange(len(action)), action].view(-1,1)\n",
    "        \n",
    "        return q_values"
   ]
  },
  {
   "cell_type": "code",
   "execution_count": 6,
   "metadata": {},
   "outputs": [],
   "source": [
    "def epsilon_greedy(q_values, episode, epsilon=0.3):\n",
    "    r = np.random.rand()\n",
    "    if episode > 50:\n",
    "        epsilon /= episode\n",
    "    return torch.argmax(q_values).item() if r > epsilon else np.random.randint(len(q_values.tolist()))"
   ]
  },
  {
   "cell_type": "code",
   "execution_count": 7,
   "metadata": {},
   "outputs": [],
   "source": [
    "def train(env, q_network, optim, buffer, q_target, copy_network=100, n_episodes=500, max_steps=500, epsilon=0.3, gamma=0.9):\n",
    "    buffer.prime(env)\n",
    "    \n",
    "    returns = []\n",
    "    \n",
    "    for episode in range(1, n_episodes+1):\n",
    "        r = 0\n",
    "        \n",
    "        obs = env.reset()\n",
    "        obs = torch.from_numpy(obs).float().unsqueeze(0)\n",
    "        \n",
    "        for step in range(1, max_steps+1):\n",
    "            q_values = q_network(obs)\n",
    "            action = epsilon_greedy(q_values, episode, epsilon=epsilon)\n",
    "            next_obs, reward, done, _ = env.step(action)\n",
    "            next_obs = torch.from_numpy(next_obs).float().unsqueeze(0)\n",
    "            next_q_values = q_network(next_obs)\n",
    "            next_action = torch.argmax(next_q_values)\n",
    "            \n",
    "            buffer.add_exp((obs, action, reward, next_obs, next_action))\n",
    "            \n",
    "            r += reward\n",
    "            \n",
    "            obs = next_obs\n",
    "            \n",
    "            if done:\n",
    "                returns.append(r)\n",
    "                break\n",
    "                \n",
    "        batch = buffer.sample()\n",
    "        \n",
    "        obss, actions, rewards, next_obss, next_actions = [exp for exp in zip(*batch)]\n",
    "        \n",
    "        obss = torch.stack(obss).squeeze()\n",
    "        next_obss = torch.stack(next_obss).squeeze()\n",
    "        rewards = torch.tensor(rewards).view(-1,1)\n",
    "\n",
    "        td_loss = F.smooth_l1_loss(rewards + gamma*q_target(next_obss, next_actions), q_network(obss, actions))\n",
    "        \n",
    "        optim.zero_grad()\n",
    "        td_loss.backward()\n",
    "        optim.step()\n",
    "        \n",
    "        if episode % copy_network == 0:\n",
    "            q_target.load_state_dict(q_network.state_dict())\n",
    "        \n",
    "        if episode % 10 == 0:\n",
    "            print('Episode: {} - TD Loss: {:.4f} - Return: {} - Avg Return: {:.4f} - Std Return: {:.4f}'.format(episode, td_loss.item(), r, mean(returns), stdev(returns)))\n",
    "            \n",
    "    plt.plot(returns)\n",
    "    plt.show()"
   ]
  },
  {
   "cell_type": "code",
   "execution_count": 8,
   "metadata": {},
   "outputs": [],
   "source": [
    "def main(environment='MountainCar-v0', seed=0, n_hidden=2, hidden_dim=64, epsilon=1, gamma=0.9, buffer_size=10000, batch_size=64, copy_network=100):\n",
    "#     logger = Logger(output_dir='.', seed=seed)\n",
    "#     logger.save_config(locals())\n",
    "    \n",
    "    env = gym.make(environment)\n",
    "    obs_dim = env.observation_space.shape[0]\n",
    "    n_actions = env.action_space.n\n",
    "    \n",
    "    np.random.seed(seed)\n",
    "    torch.manual_seed(seed)\n",
    "    env.seed(seed)\n",
    "    \n",
    "    q_network = DQN(obs_dim, n_actions, hidden_dim=hidden_dim)\n",
    "    q_target = DQN(obs_dim, n_actions, hidden_dim=hidden_dim)\n",
    "    q_target.load_state_dict(q_network.state_dict())\n",
    "    q_target.eval()\n",
    "                             \n",
    "    optimizer = optim.Adam(q_network.parameters())\n",
    "    buffer = Replay()\n",
    "    \n",
    "    train(env, q_network, optimizer, buffer, q_target, copy_network=copy_network, epsilon=epsilon, gamma=gamma)"
   ]
  },
  {
   "cell_type": "code",
   "execution_count": 9,
   "metadata": {},
   "outputs": [
    {
     "name": "stdout",
     "output_type": "stream",
     "text": [
      "Episode: 10 - TD Loss: 0.3450 - Return: -200.0 - Avg Return: -200.0000 - Std Return: 0.0000\n",
      "Episode: 20 - TD Loss: 0.2244 - Return: -200.0 - Avg Return: -200.0000 - Std Return: 0.0000\n",
      "Episode: 30 - TD Loss: 0.1192 - Return: -200.0 - Avg Return: -200.0000 - Std Return: 0.0000\n",
      "Episode: 40 - TD Loss: 0.0303 - Return: -200.0 - Avg Return: -200.0000 - Std Return: 0.0000\n",
      "Episode: 50 - TD Loss: 0.0036 - Return: -200.0 - Avg Return: -200.0000 - Std Return: 0.0000\n",
      "Episode: 60 - TD Loss: 0.0053 - Return: -200.0 - Avg Return: -200.0000 - Std Return: 0.0000\n",
      "Episode: 70 - TD Loss: 0.0007 - Return: -200.0 - Avg Return: -200.0000 - Std Return: 0.0000\n",
      "Episode: 80 - TD Loss: 0.0005 - Return: -200.0 - Avg Return: -200.0000 - Std Return: 0.0000\n",
      "Episode: 90 - TD Loss: 0.0007 - Return: -200.0 - Avg Return: -200.0000 - Std Return: 0.0000\n",
      "Episode: 100 - TD Loss: 0.0005 - Return: -200.0 - Avg Return: -200.0000 - Std Return: 0.0000\n",
      "Episode: 110 - TD Loss: 0.1342 - Return: -200.0 - Avg Return: -200.0000 - Std Return: 0.0000\n",
      "Episode: 120 - TD Loss: 0.0116 - Return: -200.0 - Avg Return: -200.0000 - Std Return: 0.0000\n",
      "Episode: 130 - TD Loss: 0.0164 - Return: -200.0 - Avg Return: -200.0000 - Std Return: 0.0000\n",
      "Episode: 140 - TD Loss: 0.0021 - Return: -200.0 - Avg Return: -200.0000 - Std Return: 0.0000\n",
      "Episode: 150 - TD Loss: 0.0028 - Return: -200.0 - Avg Return: -200.0000 - Std Return: 0.0000\n",
      "Episode: 160 - TD Loss: 0.0008 - Return: -200.0 - Avg Return: -200.0000 - Std Return: 0.0000\n",
      "Episode: 170 - TD Loss: 0.0009 - Return: -200.0 - Avg Return: -200.0000 - Std Return: 0.0000\n",
      "Episode: 180 - TD Loss: 0.0005 - Return: -200.0 - Avg Return: -200.0000 - Std Return: 0.0000\n",
      "Episode: 190 - TD Loss: 0.0007 - Return: -200.0 - Avg Return: -200.0000 - Std Return: 0.0000\n",
      "Episode: 200 - TD Loss: 0.0007 - Return: -200.0 - Avg Return: -200.0000 - Std Return: 0.0000\n",
      "Episode: 210 - TD Loss: 0.0217 - Return: -200.0 - Avg Return: -200.0000 - Std Return: 0.0000\n",
      "Episode: 220 - TD Loss: 0.0440 - Return: -200.0 - Avg Return: -200.0000 - Std Return: 0.0000\n",
      "Episode: 230 - TD Loss: 0.0027 - Return: -200.0 - Avg Return: -200.0000 - Std Return: 0.0000\n",
      "Episode: 240 - TD Loss: 0.0050 - Return: -200.0 - Avg Return: -200.0000 - Std Return: 0.0000\n",
      "Episode: 250 - TD Loss: 0.0019 - Return: -200.0 - Avg Return: -200.0000 - Std Return: 0.0000\n",
      "Episode: 260 - TD Loss: 0.0007 - Return: -200.0 - Avg Return: -200.0000 - Std Return: 0.0000\n",
      "Episode: 270 - TD Loss: 0.0009 - Return: -200.0 - Avg Return: -200.0000 - Std Return: 0.0000\n",
      "Episode: 280 - TD Loss: 0.0004 - Return: -200.0 - Avg Return: -200.0000 - Std Return: 0.0000\n",
      "Episode: 290 - TD Loss: 0.0007 - Return: -200.0 - Avg Return: -200.0000 - Std Return: 0.0000\n",
      "Episode: 300 - TD Loss: 0.0007 - Return: -200.0 - Avg Return: -200.0000 - Std Return: 0.0000\n",
      "Episode: 310 - TD Loss: 0.0015 - Return: -200.0 - Avg Return: -200.0000 - Std Return: 0.0000\n",
      "Episode: 320 - TD Loss: 0.0230 - Return: -200.0 - Avg Return: -200.0000 - Std Return: 0.0000\n",
      "Episode: 330 - TD Loss: 0.0130 - Return: -200.0 - Avg Return: -200.0000 - Std Return: 0.0000\n",
      "Episode: 340 - TD Loss: 0.0009 - Return: -200.0 - Avg Return: -200.0000 - Std Return: 0.0000\n",
      "Episode: 350 - TD Loss: 0.0019 - Return: -200.0 - Avg Return: -200.0000 - Std Return: 0.0000\n",
      "Episode: 360 - TD Loss: 0.0020 - Return: -200.0 - Avg Return: -200.0000 - Std Return: 0.0000\n",
      "Episode: 370 - TD Loss: 0.0009 - Return: -200.0 - Avg Return: -200.0000 - Std Return: 0.0000\n",
      "Episode: 380 - TD Loss: 0.0008 - Return: -200.0 - Avg Return: -200.0000 - Std Return: 0.0000\n",
      "Episode: 390 - TD Loss: 0.0010 - Return: -200.0 - Avg Return: -200.0000 - Std Return: 0.0000\n",
      "Episode: 400 - TD Loss: 0.0008 - Return: -200.0 - Avg Return: -200.0000 - Std Return: 0.0000\n",
      "Episode: 410 - TD Loss: 0.0111 - Return: -200.0 - Avg Return: -200.0000 - Std Return: 0.0000\n",
      "Episode: 420 - TD Loss: 0.0045 - Return: -200.0 - Avg Return: -200.0000 - Std Return: 0.0000\n",
      "Episode: 430 - TD Loss: 0.0103 - Return: -200.0 - Avg Return: -200.0000 - Std Return: 0.0000\n",
      "Episode: 440 - TD Loss: 0.0045 - Return: -200.0 - Avg Return: -200.0000 - Std Return: 0.0000\n",
      "Episode: 450 - TD Loss: 0.0013 - Return: -200.0 - Avg Return: -200.0000 - Std Return: 0.0000\n",
      "Episode: 460 - TD Loss: 0.0010 - Return: -200.0 - Avg Return: -200.0000 - Std Return: 0.0000\n",
      "Episode: 470 - TD Loss: 0.0013 - Return: -200.0 - Avg Return: -200.0000 - Std Return: 0.0000\n",
      "Episode: 480 - TD Loss: 0.0011 - Return: -200.0 - Avg Return: -200.0000 - Std Return: 0.0000\n",
      "Episode: 490 - TD Loss: 0.0009 - Return: -200.0 - Avg Return: -200.0000 - Std Return: 0.0000\n",
      "Episode: 500 - TD Loss: 0.0009 - Return: -200.0 - Avg Return: -200.0000 - Std Return: 0.0000\n"
     ]
    },
    {
     "data": {
      "image/png": "[encoded data removed]",
      "text/plain": [
       "<Figure size 432x288 with 1 Axes>"
      ]
     },
     "metadata": {
      "needs_background": "light"
     },
     "output_type": "display_data"
    }
   ],
   "source": [
    "if __name__ == '__main__':\n",
    "    main()"
   ]
  }
 ],
 "metadata": {
  "kernelspec": {
   "display_name": "Python 3",
   "language": "python",
   "name": "python3"
  },
  "language_info": {
   "codemirror_mode": {
    "name": "ipython",
    "version": 3
   },
   "file_extension": ".py",
   "mimetype": "text/x-python",
   "name": "python",
   "nbconvert_exporter": "python",
   "pygments_lexer": "ipython3",
   "version": "3.7.5"
  }
 },
 "nbformat": 4,
 "nbformat_minor": 4
}
