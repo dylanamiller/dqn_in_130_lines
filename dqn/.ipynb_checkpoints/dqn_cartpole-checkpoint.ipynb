{
 "cells": [
  {
   "cell_type": "markdown",
   "metadata": {},
   "source": [
    "In this notebook, I will go through a quick implementation (about 130 lines) of DQN. For starters, DQN, or Deep Q Network, is Q Learning (https://dylanamiller.github.io/) with extra bells and whistles; the main bell and/or whistle being the use of a neural network as the function approximator - interestibly enough doing this for Q Learning has no gaurentee of convergence (see https://www.mit.edu/~jnt/Papers/J063-97-bvr-td.pdf), despite the algorithm's success. Along with this of course, come certain alterations to the Q Learning algorithm that are required in order to make the neural network manageable. But do not let these things obscure what is really going on: Q Learning."
   ]
  },
  {
   "cell_type": "code",
   "execution_count": 1,
   "metadata": {},
   "outputs": [],
   "source": [
    "import torch\n",
    "import torch.nn as nn\n",
    "import torch.optim as optim\n",
    "from torch.nn import functional as F\n",
    "\n",
    "import numpy as np\n",
    "import matplotlib.pyplot as plt\n",
    "\n",
    "from random import sample\n",
    "from statistics import mean, stdev\n",
    "import copy\n",
    "\n",
    "import gym"
   ]
  },
  {
   "cell_type": "code",
   "execution_count": 2,
   "metadata": {},
   "outputs": [],
   "source": [
    "class Replay:\n",
    "    def __init__(self, maxlen=10000, batch_size=128):\n",
    "        self.maxlen = maxlen\n",
    "        self.batch_size = batch_size\n",
    "        \n",
    "        self.buffer = []\n",
    "        \n",
    "    def add_exp(self, exp):\n",
    "        def buffer_full():\n",
    "            return True if len(self.buffer) == self.maxlen else False\n",
    "        \n",
    "        if buffer_full():\n",
    "            self.buffer.pop()\n",
    "        self.buffer.append(exp)\n",
    "        \n",
    "    def prime(self, env):\n",
    "        for exp in range(self.batch_size):\n",
    "            obs = env.reset()\n",
    "            action = env.action_space.sample()\n",
    "            next_obs, reward, _, _ = env.step(action)\n",
    "            next_action = env.action_space.sample()\n",
    "            \n",
    "            obs = torch.from_numpy(obs).float().unsqueeze(0)\n",
    "            next_obs = torch.from_numpy(next_obs).float().unsqueeze(0)\n",
    "            \n",
    "            self.add_exp((obs, action, reward, next_obs, next_action))\n",
    "    \n",
    "    def sample(self):\n",
    "        return sample(self.buffer, self.batch_size)"
   ]
  },
  {
   "cell_type": "code",
   "execution_count": 3,
   "metadata": {},
   "outputs": [],
   "source": [
    "def get_layer(dim0, dim1):\n",
    "    return nn.Sequential(\n",
    "        nn.Linear(dim0, dim1),\n",
    "        nn.ReLU()\n",
    "    )"
   ]
  },
  {
   "cell_type": "code",
   "execution_count": 4,
   "metadata": {},
   "outputs": [],
   "source": [
    "def build_network(dims):\n",
    "    return [get_layer(dims[i], dims[i+1]) for i in range(len(dims)-1)]"
   ]
  },
  {
   "cell_type": "code",
   "execution_count": 5,
   "metadata": {},
   "outputs": [],
   "source": [
    "class DQN(nn.Module):\n",
    "    def __init__(self, input_dim, n_actions, hidden_dim=128, n_hidden=2):\n",
    "        super(DQN, self).__init__()\n",
    "        self.network = nn.Sequential(*build_network([input_dim] + [hidden_dim]*n_hidden))\n",
    "        self.q_values = nn.Linear(hidden_dim, n_actions)\n",
    "        \n",
    "    def forward(self, X, action=None):\n",
    "        X = self.network(X)\n",
    "        q_values = self.q_values(X)\n",
    "        \n",
    "        if action:\n",
    "            q_values = q_values[torch.arange(len(action)), action].view(-1,1)\n",
    "        \n",
    "        return q_values"
   ]
  },
  {
   "cell_type": "code",
   "execution_count": 6,
   "metadata": {},
   "outputs": [],
   "source": [
    "def epsilon_greedy(q_values, episode, epsilon=0.3):\n",
    "    r = np.random.rand()\n",
    "    return torch.argmax(q_values).item() if r > (epsilon/episode) else np.random.randint(len(q_values.tolist()))"
   ]
  },
  {
   "cell_type": "code",
   "execution_count": 7,
   "metadata": {},
   "outputs": [],
   "source": [
    "def train(env, q_network, optim, buffer, q_target, copy_network=200, n_episodes=250, max_steps=500, epsilon=0.3, gamma=0.9):\n",
    "    buffer.prime(env)\n",
    "    \n",
    "    returns = []\n",
    "    \n",
    "    for episode in range(1, n_episodes+1):\n",
    "        r = 0\n",
    "        \n",
    "        obs = env.reset()\n",
    "        obs = torch.from_numpy(obs).float().unsqueeze(0)\n",
    "        \n",
    "        for step in range(1, max_steps+1):\n",
    "            q_values = q_network(obs)\n",
    "            action = epsilon_greedy(q_values, episode, epsilon=epsilon)\n",
    "            next_obs, reward, done, _ = env.step(action)\n",
    "            next_obs = torch.from_numpy(next_obs).float().unsqueeze(0)\n",
    "            next_q_values = q_network(next_obs)\n",
    "            next_action = torch.argmax(next_q_values)\n",
    "            \n",
    "            buffer.add_exp((obs, action, reward, next_obs, next_action))\n",
    "            \n",
    "            r += reward\n",
    "            \n",
    "            obs = next_obs\n",
    "            \n",
    "            if done:\n",
    "                returns.append(r)\n",
    "                break\n",
    "                \n",
    "        batch = buffer.sample()\n",
    "        \n",
    "        obss, actions, rewards, next_obss, next_actions = [exp for exp in zip(*batch)]\n",
    "        \n",
    "        obss = torch.stack(obss).squeeze()\n",
    "        next_obss = torch.stack(next_obss).squeeze()\n",
    "        rewards = torch.tensor(rewards).view(-1,1)\n",
    "\n",
    "        td_loss = F.smooth_l1_loss(rewards + gamma*q_target(next_obss, next_actions), q_network(obss, actions))\n",
    "        \n",
    "        optim.zero_grad()\n",
    "        td_loss.backward()\n",
    "        optim.step()\n",
    "        \n",
    "        if episode % copy_network == 0:\n",
    "            q_target.load_state_dict(q_network.state_dict())\n",
    "        \n",
    "        if episode % 10 == 0:\n",
    "            print('Episode: {} - TD Loss: {:.4f} - Return: {} - Avg Return: {:.4f} - Std Return: {:.4f}'.format(episode, td_loss.item(), r, mean(returns), stdev(returns)))\n",
    "            \n",
    "    plt.plot(returns)\n",
    "    plt.show()"
   ]
  },
  {
   "cell_type": "code",
   "execution_count": 8,
   "metadata": {},
   "outputs": [],
   "source": [
    "def main(environment='CartPole-v0', seed=0, n_hidden=2, hidden_dim=128, epsilon=0.3, gamma=0.9, buffer_size=10000, batch_size=128):\n",
    "    env = gym.make(environment)\n",
    "    obs_dim = env.observation_space.shape[0]\n",
    "    n_actions = env.action_space.n\n",
    "    \n",
    "    np.random.seed(seed)\n",
    "    torch.manual_seed(seed)\n",
    "    env.seed(seed)\n",
    "    \n",
    "    q_network = DQN(obs_dim, n_actions, hidden_dim=hidden_dim)\n",
    "    q_target = DQN(obs_dim, n_actions, hidden_dim=hidden_dim)\n",
    "    q_target.load_state_dict(q_network.state_dict())\n",
    "    q_target.eval()\n",
    "                             \n",
    "    optimizer = optim.Adam(q_network.parameters(), lr=1e-4)\n",
    "    buffer = Replay()\n",
    "    \n",
    "    train(env, q_network, optimizer, buffer, q_target, epsilon=epsilon, gamma=epsilon)"
   ]
  },
  {
   "cell_type": "code",
   "execution_count": 9,
   "metadata": {},
   "outputs": [
    {
     "name": "stdout",
     "output_type": "stream",
     "text": [
      "Episode: 10 - TD Loss: 0.4864 - Return: 95.0 - Avg Return: 84.9000 - Std Return: 9.3862\n",
      "Episode: 20 - TD Loss: 0.4415 - Return: 72.0 - Avg Return: 83.6500 - Std Return: 9.0045\n",
      "Episode: 30 - TD Loss: 0.3929 - Return: 73.0 - Avg Return: 81.5333 - Std Return: 8.8463\n",
      "Episode: 40 - TD Loss: 0.3497 - Return: 72.0 - Avg Return: 81.0250 - Std Return: 8.6780\n",
      "Episode: 50 - TD Loss: 0.3025 - Return: 93.0 - Avg Return: 79.4800 - Std Return: 9.3814\n",
      "Episode: 60 - TD Loss: 0.2706 - Return: 91.0 - Avg Return: 79.7000 - Std Return: 9.2137\n",
      "Episode: 70 - TD Loss: 0.2247 - Return: 79.0 - Avg Return: 80.2429 - Std Return: 10.0397\n",
      "Episode: 80 - TD Loss: 0.1909 - Return: 120.0 - Avg Return: 81.5875 - Std Return: 11.4656\n",
      "Episode: 90 - TD Loss: 0.1626 - Return: 100.0 - Avg Return: 83.8222 - Std Return: 14.4895\n",
      "Episode: 100 - TD Loss: 0.1311 - Return: 127.0 - Avg Return: 87.0600 - Std Return: 17.3455\n",
      "Episode: 110 - TD Loss: 0.1060 - Return: 108.0 - Avg Return: 90.1091 - Std Return: 20.4950\n",
      "Episode: 120 - TD Loss: 0.0814 - Return: 119.0 - Avg Return: 94.3667 - Std Return: 26.4502\n",
      "Episode: 130 - TD Loss: 0.0634 - Return: 108.0 - Avg Return: 95.2692 - Std Return: 25.8963\n",
      "Episode: 140 - TD Loss: 0.0489 - Return: 200.0 - Avg Return: 97.4429 - Std Return: 27.2117\n",
      "Episode: 150 - TD Loss: 0.0337 - Return: 151.0 - Avg Return: 99.9867 - Std Return: 29.0410\n",
      "Episode: 160 - TD Loss: 0.0282 - Return: 200.0 - Avg Return: 103.1625 - Std Return: 31.6826\n",
      "Episode: 170 - TD Loss: 0.0232 - Return: 200.0 - Avg Return: 107.0588 - Std Return: 35.5193\n",
      "Episode: 180 - TD Loss: 0.0187 - Return: 200.0 - Avg Return: 111.4389 - Std Return: 39.5494\n",
      "Episode: 190 - TD Loss: 0.0137 - Return: 182.0 - Avg Return: 114.5895 - Std Return: 41.4650\n",
      "Episode: 200 - TD Loss: 0.0129 - Return: 200.0 - Avg Return: 117.6850 - Std Return: 43.1688\n",
      "Episode: 210 - TD Loss: 0.0563 - Return: 200.0 - Avg Return: 120.2905 - Std Return: 44.2518\n",
      "Episode: 220 - TD Loss: 0.0376 - Return: 112.0 - Avg Return: 122.3545 - Std Return: 45.0675\n",
      "Episode: 230 - TD Loss: 0.0247 - Return: 114.0 - Avg Return: 124.1435 - Std Return: 45.6129\n",
      "Episode: 240 - TD Loss: 0.0174 - Return: 200.0 - Avg Return: 125.8208 - Std Return: 46.0917\n",
      "Episode: 250 - TD Loss: 0.0117 - Return: 141.0 - Avg Return: 128.1240 - Std Return: 46.8284\n"
     ]
    },
    {
     "data": {
      "image/png": "[encoded data removed]",
      "text/plain": [
       "<Figure size 432x288 with 1 Axes>"
      ]
     },
     "metadata": {
      "needs_background": "light"
     },
     "output_type": "display_data"
    }
   ],
   "source": [
    "if __name__ == '__main__':\n",
    "    main()"
   ]
  }
 ],
 "metadata": {
  "kernelspec": {
   "display_name": "Python 3",
   "language": "python",
   "name": "python3"
  },
  "language_info": {
   "codemirror_mode": {
    "name": "ipython",
    "version": 3
   },
   "file_extension": ".py",
   "mimetype": "text/x-python",
   "name": "python",
   "nbconvert_exporter": "python",
   "pygments_lexer": "ipython3",
   "version": "3.7.5"
  }
 },
 "nbformat": 4,
 "nbformat_minor": 4
}
